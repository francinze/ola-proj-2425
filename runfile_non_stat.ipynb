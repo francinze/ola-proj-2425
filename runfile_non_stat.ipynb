{
 "cells": [
  {
   "cell_type": "code",
   "execution_count": 7,
   "id": "33f5bb39",
   "metadata": {},
   "outputs": [],
   "source": [
    "from Non_stationary.setting import Setting\n",
    "from Non_stationary.environment import Environment\n",
    "import matplotlib.pyplot as plt\n",
    "import numpy as np"
   ]
  },
  {
   "cell_type": "code",
   "execution_count": 8,
   "id": "e4ae2801",
   "metadata": {},
   "outputs": [
    {
     "name": "stdout",
     "output_type": "stream",
     "text": [
      "Seed used for this run: 2012\n"
     ]
    }
   ],
   "source": [
    "seed = 2012\n",
    "print(f'Seed used for this run: {seed}')\n",
    "np.random.seed(seed)\n",
    "\n",
    "setting = Setting(\n",
    "    T=100, n_products=3, epsilon=0.2, distribution='gaussian', verbose='seller',\n",
    "    B = None, budget_constraint=\"lax\", non_stationary='highly', dist_params=None\n",
    ")\n",
    "# non_stationary = 'no', 'slightly', 'highly', 'manual'\n",
    "#   currently implemented only for 'uniform', 'bernoulli', 'gaussian', 'constant'\n",
    "#   'manual' requires inputting the distributiona parameters manually e.g. dist = 'bernoulli'\n",
    "#      mu = np.array(([0.35]*500 + [0.65]*2500, [0.25]*1000 + [0.5]*1500 + [0.8]*500, [0.2]*1000 + [0.7]*1000 + [0.25]*1000))\n",
    "#      n = np.ones((3000, 1))\n",
    "#      params = (n, mu.T)\n",
    "#\n",
    "# distribution = 'uniform', 'bernoulli', 'gaussian', 'exponential', 'beta', 'lognormal', 'test', 'constant'\n",
    "#\n",
    "# distr_params = \n",
    "#   None to set automatically\n",
    "#   (high, low) for 'uniform' e.g. (1,0); NB: for n_prod>1 high and low are 1x1 or 1xn_prod e.g. ((0.5, 1, 0.7), (0.15, 0.85, 0.5))\n",
    "#   (n, p) for 'bernoulli' e.g. (1, 0.5); NB: for n_prod>1 n is 1x1, p is 1x1 or 1xn_prod e.g. (1, (0.25, 0.5, 0.75))\n",
    "#   (loc, scale) for 'gaussian' e.g. (0.5, 0.15), scale>=0; NB: for n_prod>1 loc and scale are 1x1 or 1xn_prod e.g. ((0.5, 0.15, 0.7), (0.1, 0.2, 0.3))\n",
    "#   (mean, scale) for 'exponential' e.g. (0.5, 0.5), scale>=0; NB: for n_prod>1 mean and scale are 1x1 or 1xn_prod e.g. ((0.5, 0.15, 0.7), (0.1, 0.2, 0.3))\n",
    "#   (a, b) for 'beta' e.g. (2, 5), a,b>=0; NB: for n_prod>1 a and b are 1x1 or 1xn_prod e.g. ((2, 1, 0.5), (5, 3, 0.5))\n",
    "#   (mean, std) for 'lognormal' e.g. (-0.7, 0.5), std>=0; NB: for n_prod>1 mean and std are 1x1 or 1xn_prod e.g. ((-0.5, 0.15, -0.7), (0.4, 0.2, 0.5))\n",
    "#   (high, low) for 'test'; NB: for n_prod>1 high and low must be 1xn_prod e.g. ((0.5, 1, 0.7), (0.15, 0.85, 0.5))\n",
    "#   (value) for 'constant'; NB: only use for n_prod>1, value must be 1xn_prod e.g. (0.5, 0.15, 0.7)"
   ]
  },
  {
   "cell_type": "code",
   "execution_count": 9,
   "id": "370d0de8",
   "metadata": {},
   "outputs": [
    {
     "name": "stdout",
     "output_type": "stream",
     "text": [
      "Initialized Seller with 3 products and 5 price options per product.\n",
      "Production capacity (B): 9.166666666666668\n"
     ]
    }
   ],
   "source": [
    "env = Environment(setting)"
   ]
  },
  {
   "cell_type": "code",
   "execution_count": null,
   "id": "1d892a19",
   "metadata": {},
   "outputs": [
    {
     "name": "stdout",
     "output_type": "stream",
     "text": [
      "Pulling arms at step 0...\n",
      "Chosen price indices for products: [0 0 0]\n",
      "Purchases after inventory constraint: [0.1 0.1 0.1]\n",
      "Error in round 0: 'numpy.float64' object cannot be interpreted as an integer\n",
      "Pulling arms at step 1...\n",
      "Chosen price indices for products: [0 0 0]\n",
      "Purchases after inventory constraint: [0.1 0.1 0. ]\n",
      "Error in round 0: 'numpy.float64' object cannot be interpreted as an integer\n",
      "Pulling arms at step 2...\n",
      "Chosen price indices for products: [0 0 0]\n",
      "Purchases after inventory constraint: [0.1 0.1 0. ]\n",
      "Error in round 0: 'numpy.float64' object cannot be interpreted as an integer\n",
      "Pulling arms at step 3...\n",
      "Chosen price indices for products: [0 0 0]\n",
      "Purchases after inventory constraint: [0.1 0.  0. ]\n",
      "Error in round 0: 'numpy.float64' object cannot be interpreted as an integer\n",
      "Pulling arms at step 4...\n",
      "Chosen price indices for products: [0 0 0]\n",
      "Purchases after inventory constraint: [0.1 0.1 0. ]\n",
      "Error in round 0: 'numpy.float64' object cannot be interpreted as an integer\n",
      "Pulling arms at step 5...\n",
      "Chosen price indices for products: [0 0 0]\n",
      "Purchases after inventory constraint: [0.1 0.1 0. ]\n",
      "Error in round 0: 'numpy.float64' object cannot be interpreted as an integer\n",
      "Pulling arms at step 6...\n",
      "Chosen price indices for products: [0 0 0]\n"
     ]
    }
   ],
   "source": [
    "env.play_all_rounds()"
   ]
  },
  {
   "cell_type": "code",
   "execution_count": 5,
   "id": "a8d2214c",
   "metadata": {},
   "outputs": [
    {
     "data": {
      "image/png": "[encoded data removed]",
      "text/plain": [
       "<Figure size 1000x600 with 1 Axes>"
      ]
     },
     "metadata": {},
     "output_type": "display_data"
    }
   ],
   "source": [
    "cum_regrets = np.cumsum(env.regrets)\n",
    "plt.figure(figsize=(10, 6))\n",
    "plt.plot(cum_regrets, label='Cumulative Regret')\n",
    "plt.xlabel('Time Step')\n",
    "plt.ylabel('Cumulative Regret')\n",
    "plt.title('Cumulative Regret Over Time')\n",
    "plt.legend()\n",
    "plt.grid()\n",
    "plt.show()\n"
   ]
  },
  {
   "cell_type": "code",
   "execution_count": 6,
   "id": "70f95ad1",
   "metadata": {},
   "outputs": [],
   "source": [
    "# env.run_simulation(20)\n",
    "\n"
   ]
  }
 ],
 "metadata": {
  "kernelspec": {
   "display_name": "Python 3",
   "language": "python",
   "name": "python3"
  },
  "language_info": {
   "codemirror_mode": {
    "name": "ipython",
    "version": 3
   },
   "file_extension": ".py",
   "mimetype": "text/x-python",
   "name": "python",
   "nbconvert_exporter": "python",
   "pygments_lexer": "ipython3",
   "version": "3.11.2"
  }
 },
 "nbformat": 4,
 "nbformat_minor": 5
}
