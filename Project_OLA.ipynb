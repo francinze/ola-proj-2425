{
 "cells": [
  {
   "cell_type": "markdown",
   "id": "998e385f",
   "metadata": {},
   "source": [
    "gfhdsklcj"
   ]
  },
  {
   "cell_type": "markdown",
   "id": "379bac60",
   "metadata": {},
   "source": [
    "ttg"
   ]
  }
 ],
 "metadata": {
  "language_info": {
   "name": "python"
  }
 },
 "nbformat": 4,
 "nbformat_minor": 5
}
